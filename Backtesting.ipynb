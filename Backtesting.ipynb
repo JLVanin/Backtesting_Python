{
 "cells": [
  {
   "cell_type": "markdown",
   "metadata": {
    "id": "3Leymiyz6nii"
   },
   "source": [
    "## Backtesting em Python\n",
    "\n",
    "Nesta seção iremos realizar o backtesting de algumas estratégias dentro da biblioteca backtrader!"
   ]
  },
  {
   "cell_type": "markdown",
   "metadata": {
    "id": "TZRA_45F7NXO"
   },
   "source": [
    "## 1. Instalando bibliotecas\n",
    "\n",
    "Iremos instalar as bibliotecas YFinance e Backtrader para realizar as análises"
   ]
  },
  {
   "cell_type": "code",
   "execution_count": null,
   "metadata": {
    "colab": {
     "base_uri": "https://localhost:8080/"
    },
    "executionInfo": {
     "elapsed": 9432,
     "status": "ok",
     "timestamp": 1653059136088,
     "user": {
      "displayName": "Arthur Rufino",
      "userId": "15163371346106554840"
     },
     "user_tz": 180
    },
    "id": "LXGbhHpV6ibP",
    "outputId": "83648a24-d7d2-417a-f03a-99c5a9692c63"
   },
   "outputs": [],
   "source": [
    "!pip install backtrader\n",
    "!pip install yfinance"
   ]
  },
  {
   "cell_type": "markdown",
   "metadata": {
    "id": "N6bY0hEE7bnt"
   },
   "source": [
    "## 2. Importando bibliotecas\n",
    "\n",
    "Utilizaremos:\n",
    "- a biblioteca pandas e numpy para transformação dos dados;\n",
    "- backtrader para realizar os backtests e métricas;\n",
    "- datetime para tratar informações de tempo;-\n",
    " yfiannce para captura dos dados do mercado financeiro e \n",
    "- matplotlib para visualização dos dados\n"
   ]
  },
  {
   "cell_type": "code",
   "execution_count": null,
   "metadata": {
    "executionInfo": {
     "elapsed": 650,
     "status": "ok",
     "timestamp": 1653059136734,
     "user": {
      "displayName": "Arthur Rufino",
      "userId": "15163371346106554840"
     },
     "user_tz": 180
    },
    "id": "Ot0ej-Ml7d5g"
   },
   "outputs": [],
   "source": [
    "import pandas as pd\n",
    "import backtrader as bt\n",
    "import datetime\n",
    "import yfinance as yf\n",
    "import matplotlib.pyplot as plt\n",
    "import numpy as np"
   ]
  },
  {
   "cell_type": "markdown",
   "metadata": {
    "id": "co4axXhF7phw"
   },
   "source": [
    "## 3. Revisando o conceito de classes\n",
    "\n",
    "Compreender o conceito de classes é fundamental para trabalharmos com a biblioteca Backtrader uma vez que ela opera através dessa estrutura.\n",
    "\n",
    "\n",
    "__init__ -> permite criar a funcionalidade inicial da classe\n",
    "\n",
    "self -> definir as propriedades e métodos de uma instância"
   ]
  },
  {
   "cell_type": "code",
   "execution_count": null,
   "metadata": {
    "id": "6noaeina7gc_"
   },
   "outputs": [],
   "source": [
    "class Ativo:\n",
    "    def __init__(self,ticker,setor,ohlc):\n",
    "        self.ticker = str(ticker)\n",
    "        self.setor = str(setor)\n",
    "        self.ohlc = list(ohlc)\n",
    "    pass"
   ]
  },
  {
   "cell_type": "code",
   "execution_count": null,
   "metadata": {
    "colab": {
     "base_uri": "https://localhost:8080/"
    },
    "executionInfo": {
     "elapsed": 18,
     "status": "ok",
     "timestamp": 1649265774532,
     "user": {
      "displayName": "Arthur Rufino",
      "userId": "15163371346106554840"
     },
     "user_tz": 180
    },
    "id": "S4p12KW27z8l",
    "outputId": "f3cc32e7-85a2-4e28-8641-3012a93ccc93"
   },
   "outputs": [],
   "source": [
    "ativo1 = Ativo('PETR4','Combustíveis',[32.35,33.17,31.55,31.93])\n",
    "ativo1"
   ]
  },
  {
   "cell_type": "code",
   "execution_count": null,
   "metadata": {
    "colab": {
     "base_uri": "https://localhost:8080/",
     "height": 36
    },
    "executionInfo": {
     "elapsed": 14,
     "status": "ok",
     "timestamp": 1649265774532,
     "user": {
      "displayName": "Arthur Rufino",
      "userId": "15163371346106554840"
     },
     "user_tz": 180
    },
    "id": "evP1Xauw72XE",
    "outputId": "2d0477cc-6553-42de-d3b5-d7e7efb936e5"
   },
   "outputs": [],
   "source": [
    "ativo1.ticker"
   ]
  },
  {
   "cell_type": "code",
   "execution_count": null,
   "metadata": {
    "colab": {
     "base_uri": "https://localhost:8080/"
    },
    "executionInfo": {
     "elapsed": 13,
     "status": "ok",
     "timestamp": 1649265774532,
     "user": {
      "displayName": "Arthur Rufino",
      "userId": "15163371346106554840"
     },
     "user_tz": 180
    },
    "id": "-HK1tAvr74Yc",
    "outputId": "df50083f-c02e-4fbb-d09f-44dd6268b351"
   },
   "outputs": [],
   "source": [
    "ativo1.ohlc[3]"
   ]
  },
  {
   "cell_type": "code",
   "execution_count": null,
   "metadata": {
    "colab": {
     "base_uri": "https://localhost:8080/"
    },
    "executionInfo": {
     "elapsed": 13,
     "status": "ok",
     "timestamp": 1649265774533,
     "user": {
      "displayName": "Arthur Rufino",
      "userId": "15163371346106554840"
     },
     "user_tz": 180
    },
    "id": "4X_3eC6a76al",
    "outputId": "9399d759-f4c7-4408-fbd9-611110522822"
   },
   "outputs": [],
   "source": [
    "ativo2 = Ativo('ITUB4','Financeiro',[25.32,27.01,25.18,26.77])\n",
    "ativo3 = Ativo('VALE3','Mineração',[80.87,82.55,80.76,82.40])\n",
    "ativo2.setor == ativo3.setor"
   ]
  },
  {
   "cell_type": "code",
   "execution_count": null,
   "metadata": {
    "id": "nViA2qgB79YM"
   },
   "outputs": [],
   "source": [
    "class Ativo:\n",
    "    def __init__(self,ticker,setor,ohlc):\n",
    "        self.ticker = str(ticker)\n",
    "        self.setor = str(setor)\n",
    "        self.ohlc = list(ohlc)\n",
    "    \n",
    "    def Amplitude(self):\n",
    "        print(round((self.ohlc[1]-self.ohlc[2]),2))\n",
    "    \n",
    "    def Tipo(self):\n",
    "        if self.ticker[-1] == '3':\n",
    "            print(self.ticker,'é uma ação é do tipo ORDINÁRIA')\n",
    "        elif self.ticker[-1] == '4':\n",
    "            print(self.ticker,'é uma ação é do tipo PREFERENCIAL')\n",
    "        elif self.ticker[-1] == '1':\n",
    "            print(self.ticker,'é uma ação é do tipo UNIT')\n",
    "        else:\n",
    "            print('Não tenho certeza, melhor consultar o site da B3')\n",
    "    \n",
    "    def Resultado(self):\n",
    "        resultado = (self.ohlc[3]-self.ohlc[0])\n",
    "        if resultado == 0:\n",
    "          print(self.ticker,'fechou estável')\n",
    "        elif resultado > 0:\n",
    "          print(self.ticker,'fechou em alta')\n",
    "        elif resultado < 0:\n",
    "          print(self.ticker,'fechou em baixa')\n",
    "\n",
    "    def Fech_prox_max_min(self):\n",
    "        media_max_min = np.mean([self.ohlc[1],self.ohlc[2]])\n",
    "        if self.ohlc[3] > media_max_min:\n",
    "            print(self.ticker,'parece estar em tendencia de alta')\n",
    "        else:\n",
    "            print(self.ticker,'parece estar em tendencia de baixa')\n",
    "\n",
    "    pass"
   ]
  },
  {
   "cell_type": "code",
   "execution_count": null,
   "metadata": {
    "id": "s6-dqx1V8BqM"
   },
   "outputs": [],
   "source": [
    "ativo1 = Ativo('PETR4','Combustíveis',[32.35,33.17,31.55,31.93])\n",
    "ativo2 = Ativo('ITUB4','Financeiro',[25.32,27.01,25.18,26.77])\n",
    "ativo3 = Ativo('VALE3','Mineração',[80.87,82.55,80.76,82.40])\n",
    "ativo4 = Ativo('BPAC11','Financeiro',[24.17,24.77,23.70,23.89])"
   ]
  },
  {
   "cell_type": "code",
   "execution_count": null,
   "metadata": {
    "colab": {
     "base_uri": "https://localhost:8080/"
    },
    "executionInfo": {
     "elapsed": 4,
     "status": "ok",
     "timestamp": 1652983009578,
     "user": {
      "displayName": "Arthur Rufino",
      "userId": "15163371346106554840"
     },
     "user_tz": 180
    },
    "id": "f5jfyXos8Dic",
    "outputId": "e305cd56-35ae-470a-f0cc-4a4d9cc49acb"
   },
   "outputs": [],
   "source": [
    "ativo1.Amplitude()"
   ]
  },
  {
   "cell_type": "code",
   "execution_count": null,
   "metadata": {
    "colab": {
     "base_uri": "https://localhost:8080/"
    },
    "executionInfo": {
     "elapsed": 12,
     "status": "ok",
     "timestamp": 1649265774535,
     "user": {
      "displayName": "Arthur Rufino",
      "userId": "15163371346106554840"
     },
     "user_tz": 180
    },
    "id": "yg_Tgr6r8FJ0",
    "outputId": "6ec8a853-b4c1-4b31-d027-aa3197430e4c"
   },
   "outputs": [],
   "source": [
    "Ativo.Amplitude(ativo3)"
   ]
  },
  {
   "cell_type": "code",
   "execution_count": null,
   "metadata": {
    "colab": {
     "base_uri": "https://localhost:8080/"
    },
    "executionInfo": {
     "elapsed": 11,
     "status": "ok",
     "timestamp": 1649265774535,
     "user": {
      "displayName": "Arthur Rufino",
      "userId": "15163371346106554840"
     },
     "user_tz": 180
    },
    "id": "IMM7M6Q-8G8L",
    "outputId": "eaab8d41-383b-4757-e3bb-549133ae8de9"
   },
   "outputs": [],
   "source": [
    "ativo4.Tipo()"
   ]
  },
  {
   "cell_type": "code",
   "execution_count": null,
   "metadata": {
    "colab": {
     "base_uri": "https://localhost:8080/"
    },
    "executionInfo": {
     "elapsed": 10,
     "status": "ok",
     "timestamp": 1649265774535,
     "user": {
      "displayName": "Arthur Rufino",
      "userId": "15163371346106554840"
     },
     "user_tz": 180
    },
    "id": "MvSpLdIU8Ies",
    "outputId": "92d5d4ba-042d-4c85-f9cd-55d59b353f3a"
   },
   "outputs": [],
   "source": [
    "ativo2.setor == ativo4.setor"
   ]
  },
  {
   "cell_type": "code",
   "execution_count": null,
   "metadata": {
    "colab": {
     "base_uri": "https://localhost:8080/"
    },
    "executionInfo": {
     "elapsed": 17,
     "status": "ok",
     "timestamp": 1649265775015,
     "user": {
      "displayName": "Arthur Rufino",
      "userId": "15163371346106554840"
     },
     "user_tz": 180
    },
    "id": "r_n3nco08KyU",
    "outputId": "859e6aa4-3af5-4d48-8ccc-68a1d98e3e86"
   },
   "outputs": [],
   "source": [
    "ativo2.Resultado()"
   ]
  },
  {
   "cell_type": "code",
   "execution_count": null,
   "metadata": {
    "colab": {
     "base_uri": "https://localhost:8080/"
    },
    "executionInfo": {
     "elapsed": 16,
     "status": "ok",
     "timestamp": 1649265775015,
     "user": {
      "displayName": "Arthur Rufino",
      "userId": "15163371346106554840"
     },
     "user_tz": 180
    },
    "id": "vBbAdRwk8QpL",
    "outputId": "21a9d551-2c41-4a4c-c251-48444648c76e"
   },
   "outputs": [],
   "source": [
    "Ativo.Fech_prox_max_min(ativo3)"
   ]
  },
  {
   "cell_type": "code",
   "execution_count": null,
   "metadata": {
    "colab": {
     "base_uri": "https://localhost:8080/"
    },
    "executionInfo": {
     "elapsed": 13,
     "status": "ok",
     "timestamp": 1649265775016,
     "user": {
      "displayName": "Arthur Rufino",
      "userId": "15163371346106554840"
     },
     "user_tz": 180
    },
    "id": "5eEvuTNk8Sp7",
    "outputId": "98a7fd7d-1d71-4555-b60f-4c2861f7f3ff"
   },
   "outputs": [],
   "source": [
    "ativo5 = Ativo('WEGE3','Bens_Industriais',[32.46,33.84,31.18,32.12])\n",
    "Ativo.Resultado(ativo5)"
   ]
  },
  {
   "cell_type": "markdown",
   "metadata": {
    "id": "3nol3fiz8gUY"
   },
   "source": [
    "## 4. Capturando dados do YFinance\n",
    "\n",
    "Aqui iremos buscar os dados de cotações dentro do YFinance para utilizarmos na biblioteca backtrader"
   ]
  },
  {
   "cell_type": "code",
   "execution_count": null,
   "metadata": {
    "colab": {
     "base_uri": "https://localhost:8080/"
    },
    "executionInfo": {
     "elapsed": 4,
     "status": "ok",
     "timestamp": 1653059136734,
     "user": {
      "displayName": "Arthur Rufino",
      "userId": "15163371346106554840"
     },
     "user_tz": 180
    },
    "id": "sSIhML0x8qNV",
    "outputId": "ca58f262-bd66-4d7b-a7cd-61213a6b5671"
   },
   "outputs": [],
   "source": [
    "data = bt.feeds.PandasData(dataname=yf.download('PETR4.SA', '2017-01-01', '2021-07-01', auto_adjust=True))"
   ]
  },
  {
   "cell_type": "markdown",
   "metadata": {
    "id": "zQ6vrgyj83oX"
   },
   "source": [
    "## 5. Estruturas de estratégias dentro do Backtrader"
   ]
  },
  {
   "cell_type": "markdown",
   "metadata": {
    "id": "Xr5hK0n2_F0g"
   },
   "source": [
    "### 5.1. Fundamentos"
   ]
  },
  {
   "cell_type": "code",
   "execution_count": null,
   "metadata": {
    "id": "ZLRmcJoW8wK1"
   },
   "outputs": [],
   "source": [
    "#Primeiramente iremos utilizar uma estrutura sugerida pela biblioteca para que você entenda como se aplica o conceito de classe dentro da estratégia e como funciona o framework do Backtrader\n",
    "\n",
    "#Trazer a estratégia \n",
    "class PrintFechamento(bt.Strategy):\n",
    "\n",
    "  def __init__(self):\n",
    "    #criei uma variavel dataclose e deixa como referencia a linha final [0] da serie de dados\n",
    "    self.dataclose = self.datas[0].close\n",
    "    #criando uma função de logging para capturar a data do ultimo datapoint da minha base de dados\n",
    "  def log(self, txt, dt=None):\n",
    "    dt = dt or self.datas[0].datetime.date(0)\n",
    "    print(f'{dt.isoformat()} {txt}') #Print data and close\n",
    "    #defino o next - ele será executado toda vez que o bt chamar uma linha do db\n",
    "  def next(self):\n",
    "    self.log('Close, %.2f' % self.dataclose[0])\n"
   ]
  },
  {
   "cell_type": "code",
   "execution_count": null,
   "metadata": {
    "colab": {
     "base_uri": "https://localhost:8080/"
    },
    "executionInfo": {
     "elapsed": 675,
     "status": "ok",
     "timestamp": 1649265775684,
     "user": {
      "displayName": "Arthur Rufino",
      "userId": "15163371346106554840"
     },
     "user_tz": 180
    },
    "id": "fuC-ZJrE-rgY",
    "outputId": "6f5e1954-72d2-428a-cd5f-2c2450d8dd4d"
   },
   "outputs": [],
   "source": [
    "#inicializando cerebro\n",
    "cerebro = bt.Cerebro()\n",
    "\n",
    "#adicionando dados para backtesting\n",
    "cerebro.adddata(data)\n",
    "\n",
    "#adicionando a estrategia ao cerebro\n",
    "cerebro.addstrategy(PrintFechamento)\n",
    "\n",
    "#executando\n",
    "cerebro.run()"
   ]
  },
  {
   "cell_type": "markdown",
   "metadata": {
    "id": "8duZdzc2_JGf"
   },
   "source": [
    "### 5.2. Estratégia básica\n",
    "\n",
    "Criaremos aqui uma estratégia básica de rompimento de médias simples. A ideia é que quando o preço cruze a média para cima compramos e quando preço cruzar a média para baixo, vendemos."
   ]
  },
  {
   "cell_type": "code",
   "execution_count": null,
   "metadata": {
    "colab": {
     "base_uri": "https://localhost:8080/"
    },
    "executionInfo": {
     "elapsed": 383,
     "status": "ok",
     "timestamp": 1649265776064,
     "user": {
      "displayName": "Arthur Rufino",
      "userId": "15163371346106554840"
     },
     "user_tz": 180
    },
    "id": "fsXDi8GAEWdb",
    "outputId": "b7332ad0-8193-4f78-ab2a-7f5de9bd9dbd"
   },
   "outputs": [],
   "source": [
    "wege3=yf.download('WEGE3.SA', '2011-01-01', '2021-07-01', auto_adjust=True, interval='5d')\n",
    "wege3.dropna(inplace=True)\n"
   ]
  },
  {
   "cell_type": "code",
   "execution_count": null,
   "metadata": {
    "id": "7eNf4IomGBwa"
   },
   "outputs": [],
   "source": [
    "data = bt.feeds.PandasData(dataname=wege3)"
   ]
  },
  {
   "cell_type": "code",
   "execution_count": null,
   "metadata": {
    "colab": {
     "base_uri": "https://localhost:8080/",
     "height": 856
    },
    "executionInfo": {
     "elapsed": 3422,
     "status": "ok",
     "timestamp": 1649265813913,
     "user": {
      "displayName": "Arthur Rufino",
      "userId": "15163371346106554840"
     },
     "user_tz": 180
    },
    "id": "S0NGUbOV_A0m",
    "outputId": "53eead70-a46b-4139-f761-1b1e4b5c78d8"
   },
   "outputs": [],
   "source": [
    "from backtrader.indicators import crossover\n",
    "\n",
    "#para fazer o matplotlib rodar\n",
    "\n",
    "%matplotlib inline \n",
    "\n",
    "#Teste 2\n",
    "\n",
    "class MMACruzamento(bt.SignalStrategy):\n",
    "  def __init__(self): #cria uma função que roda imediatamente quando um objeto é criado a partir dessa classe\n",
    "    sma = bt.ind.SMA(period=26) #aqui você define o indicador\n",
    "    price = self.data #aqui é apontador do indicador\n",
    "    crossover = bt.ind.CrossOver(price,sma) #aqui é onde você define o sinal, aqui no caso é sinal de cruzamento\n",
    "    self.signal_add(bt.SIGNAL_LONG, crossover) \n",
    "\n",
    "cerebro = bt.Cerebro()\n",
    "cerebro.addstrategy(MMACruzamento)\n",
    "cerebro.adddata(data)\n",
    "cerebro.run()\n",
    "plt.rcParams['figure.figsize'] = [15, 12]\n",
    "plt.rcParams.update({'font.size': 12}) \n",
    "cerebro.plot(iplot = False)"
   ]
  },
  {
   "cell_type": "markdown",
   "metadata": {
    "id": "iXdVYr5m_VM7"
   },
   "source": [
    "### 5.3. Estratégia com indicador Índice de Força Relativa"
   ]
  },
  {
   "cell_type": "code",
   "execution_count": null,
   "metadata": {
    "colab": {
     "base_uri": "https://localhost:8080/"
    },
    "executionInfo": {
     "elapsed": 274,
     "status": "ok",
     "timestamp": 1649265816013,
     "user": {
      "displayName": "Arthur Rufino",
      "userId": "15163371346106554840"
     },
     "user_tz": 180
    },
    "id": "6nHPJijdDEPC",
    "outputId": "6dbe13d9-8f6f-4842-a74f-a569a6566b61"
   },
   "outputs": [],
   "source": [
    "data2 = bt.feeds.PandasData(dataname=yf.download('PETR4.SA', '2017-01-01', '2021-07-01', auto_adjust=True))"
   ]
  },
  {
   "cell_type": "code",
   "execution_count": null,
   "metadata": {
    "id": "Jx5vjtRO_drP"
   },
   "outputs": [],
   "source": [
    "class RSI(bt.SignalStrategy):\n",
    "  def __init__(self): #cria uma função que roda imediatamente quando um objeto é criado a partir dessa classe\n",
    "    self.rsi = bt.ind.RSI() #aqui você define o indicador\n",
    "  def next(self):\n",
    "    if not self.position:\n",
    "      if self.rsi < 45:\n",
    "          self.buy(size=100)\n",
    "    else:\n",
    "      if self.rsi > 65:\n",
    "          self.sell(size=100)"
   ]
  },
  {
   "cell_type": "code",
   "execution_count": null,
   "metadata": {
    "colab": {
     "base_uri": "https://localhost:8080/",
     "height": 856
    },
    "executionInfo": {
     "elapsed": 3643,
     "status": "ok",
     "timestamp": 1649265822549,
     "user": {
      "displayName": "Arthur Rufino",
      "userId": "15163371346106554840"
     },
     "user_tz": 180
    },
    "id": "GCWY8vfQ_g2m",
    "outputId": "6a462a32-e339-4959-e90a-1802eb3c7349"
   },
   "outputs": [],
   "source": [
    "cerebro = bt.Cerebro()\n",
    "cerebro.addstrategy(RSI)\n",
    "cerebro.adddata(data2)\n",
    "#cerebro.addsizer(bt.sizers.SizerFix, stake=10)#fazer a compra de 10 ações   \n",
    "cerebro.run()\n",
    "plt.rcParams['figure.figsize'] = [15, 12]\n",
    "plt.rcParams.update({'font.size': 12}) \n",
    "cerebro.plot(iplot = False)"
   ]
  },
  {
   "cell_type": "markdown",
   "metadata": {
    "id": "lDxKqNSV_rUd"
   },
   "source": [
    "### 5.4. Captando os dados da estratégia\n",
    "\n",
    "Muitas vezes é necessário analisar o operacional linha a linha da estratégia para ver se ela está sendo executada de maneira correta, para isso utilizamos o método abaixo:"
   ]
  },
  {
   "cell_type": "code",
   "execution_count": null,
   "metadata": {
    "executionInfo": {
     "elapsed": 293,
     "status": "ok",
     "timestamp": 1653020108569,
     "user": {
      "displayName": "Arthur Rufino",
      "userId": "15163371346106554840"
     },
     "user_tz": 180
    },
    "id": "BpL_e8FZ_vWP"
   },
   "outputs": [],
   "source": [
    "class Cruzamento_Preco_MMA(bt.Strategy):\n",
    "  \n",
    "  params = (('MMA',9),)\n",
    "  \n",
    "  def __init__(self):\n",
    "    sma = bt.indicators.MovingAverageSimple(self.datas[0],period=self.params.MMA)\n",
    "    price = self.datas[0]\n",
    "    self.crossover = bt.indicators.CrossOver(price,sma)\n",
    "    self.sma = sma\n",
    "    self.price = price\n",
    "      \n",
    "  def log(self, txt, dt=None):\n",
    "    dt = self.datas[0].datetime.date(0)\n",
    "    print(f'{dt}: {txt}')\n",
    "\n",
    "  def next(self):\n",
    "    if not self.position and self.crossover >0: \n",
    "      self.log('|| MMMA %.0fp = R$ %.2f || Close = R$ %.2f || Posição crossover = %.0f || (BuyAtMarket)' % ((self.params.MMA),(self.sma[0]),(self.price[0]),(self.crossover[0])))\n",
    "      self.buy()\n",
    "    \n",
    "    elif self.crossover < 0 and self.position:\n",
    "      self.sell()\n",
    "      self.log('|| MMMA %.0fp = R$ %.2f || Close = R$ %.2f || Posição crossover = %.0f || (SellAtMarket)' % ((self.params.MMA),(self.sma[0]),(self.price[0]),(self.crossover[0])))\n"
   ]
  },
  {
   "cell_type": "code",
   "execution_count": null,
   "metadata": {
    "colab": {
     "base_uri": "https://localhost:8080/"
    },
    "executionInfo": {
     "elapsed": 719,
     "status": "ok",
     "timestamp": 1653020110621,
     "user": {
      "displayName": "Arthur Rufino",
      "userId": "15163371346106554840"
     },
     "user_tz": 180
    },
    "id": "jXN8eznI_34F",
    "outputId": "30f6340e-8ebc-405c-8818-5af5a922361b"
   },
   "outputs": [],
   "source": [
    "cerebro = bt.Cerebro()\n",
    "cerebro.adddata(data)\n",
    "cerebro.addstrategy(Cruzamento_Preco_MMA)\n",
    "\n",
    "## Estabelecer parâmetros do broker\n",
    "cerebro.broker.setcash(10000000)\n",
    "cerebro.addsizer(bt.sizers.SizerFix, stake=1)\n",
    "\n",
    "print('Valor inicial da carteira: %.2f' % cerebro.broker.getvalue())\n",
    "cerebro.run()\n",
    "print('Valor final da carteira: %.2f' % cerebro.broker.getvalue())"
   ]
  },
  {
   "cell_type": "markdown",
   "metadata": {
    "id": "VubwrCSG_8np"
   },
   "source": [
    "### 5.5. Estratégia Híbrida + Indicadores\n",
    "\n",
    "Nesta seção aprenderemos a mesclar dois indicadores na mesma estratégia e entender quais as ferramentas de análise o Backtrader nos oferece"
   ]
  },
  {
   "cell_type": "code",
   "execution_count": null,
   "metadata": {
    "colab": {
     "base_uri": "https://localhost:8080/"
    },
    "executionInfo": {
     "elapsed": 1537,
     "status": "ok",
     "timestamp": 1653059243396,
     "user": {
      "displayName": "Arthur Rufino",
      "userId": "15163371346106554840"
     },
     "user_tz": 180
    },
    "id": "n9H0g3mHABYX",
    "outputId": "45825387-c8bd-432c-92ee-85d24e06594f"
   },
   "outputs": [],
   "source": [
    "import backtrader.analyzers as btanalyzers\n",
    "\n",
    "class rsi_media_movel(bt.Strategy):\n",
    "\n",
    "  def __init__(self):\n",
    "\n",
    "    self.rsi = bt.indicators.RSI(self.data.close, period=21)\n",
    "    self.mm_rapida = bt.indicators.SMA(self.data.close, period=9)\n",
    "    self.mm_lenta = bt.indicators.SMA(self.data.close, period=26)\n",
    "    self.crossup = bt.ind.CrossUp(self.mm_rapida, self.mm_lenta)\n",
    "\n",
    "\n",
    "\n",
    "\n",
    "  def next(self):\n",
    "    if not self.position: #se não tiver alguma ordem aberta - condição de compra\n",
    "      if self.rsi > 30 and self.crossup == 1:\n",
    "        self.buy(size=100)\n",
    "\n",
    "    else: #caso a ordem já estiver aberta - condição de venda\n",
    "      if self.rsi < 70:\n",
    "        self.sell(size=100)\n",
    "  \n",
    "caixa_inicial = 30000 #definimos o montante a inicial do portfólio\n",
    "\n",
    "cerebro = bt.Cerebro()\n",
    "cerebro.addstrategy(rsi_media_movel)\n",
    "cerebro.adddata(data2)\n",
    "cerebro.broker.setcommission(commission=0.003) #setamos a comissão da exchange\n",
    "cerebro.broker.setcash(caixa_inicial)\n",
    "cerebro.addanalyzer(btanalyzers.PeriodStats, _name='stats', timeframe=bt.TimeFrame.Days)\n",
    "cerebro.addanalyzer(btanalyzers.SharpeRatio_A, _name='sharpe', riskfreerate=0.12)\n",
    "cerebro.addanalyzer(btanalyzers.TradeAnalyzer, _name='TradeAnalyzer')\n",
    "cerebro.addanalyzer(btanalyzers.DrawDown, _name='drawdown')\n",
    "thestrats = cerebro.run()\n",
    "thestrat = thestrats[0]\n",
    "print('Estatísticas:', thestrat.analyzers.stats.get_analysis())\n",
    "print('Final Portfolio Value: %.2f' % cerebro.broker.getvalue())\n",
    "print('Sharpe Ratio:', thestrat.analyzers.sharpe.get_analysis())\n",
    "print('TradeAnalyzer:', thestrat.analyzers.TradeAnalyzer.get_analysis())\n",
    "print('Drawdown:', thestrat.analyzers.drawdown.get_analysis())"
   ]
  },
  {
   "cell_type": "code",
   "execution_count": null,
   "metadata": {
    "id": "wxYX7Zg0Mfwa"
   },
   "outputs": [],
   "source": [
    "caixa_inicial = 30000\n",
    "\n",
    "cerebro = bt.Cerebro()\n",
    "cerebro.addstrategy(rsi_media_movel)\n",
    "cerebro.adddata(data)\n",
    "cerebro.broker.setcommission(commission=0.003) #taxa da exchange\n",
    "cerebro.broker.setcash(caixa_inicial)\n",
    "cerebro.addanalyzer(btanalyzers.PeriodStats, _name='stats')\n",
    "cerebro.addanalyzer(btanalyzers.SharpeRatio_A, _name='sharpe', riskfreerate=0.1275)\n",
    "cerebro.addanalyzer(btanalyzers.DrawDown, _name='drawdown')\n",
    "cerebro.addanalyzer(btanalyzers.Returns, _name='returns')\n",
    "thestrats = cerebro.run()\n",
    "thestrat = thestrats[0]\n",
    "print('Returns:', thestrat.analyzers.returns.get_analysis())\n",
    "print('Estatísticas:', thestrat.analyzers.stats.get_analysis())\n",
    "print('Sharpe Ratio:', thestrat.analyzers.sharpe.get_analysis())\n",
    "print('Drawdown:', thestrat.analyzers.drawdown.get_analysis())\n",
    "print('Valor Final Portfolio: %.2f' % cerebro.broker.getvalue())"
   ]
  },
  {
   "cell_type": "markdown",
   "metadata": {
    "id": "KELb27ZOmWOn"
   },
   "source": [
    "## 5.6. In and Out-of-Sample\n",
    "\n",
    "Nesse momento iremos testar a estratégia em dois períodos diferentes para avaliar se performance se mantem estável"
   ]
  },
  {
   "cell_type": "code",
   "execution_count": null,
   "metadata": {
    "id": "JLR6EjDgR94c"
   },
   "outputs": [],
   "source": [
    "#Construir os parâmetros da estratégia\n",
    "\n",
    "ativo = 'PETR4.SA'\n",
    "intervalo = '1d'\n",
    "rapida = 21 \n",
    "lenta = 100\n",
    "janela_rsi = 21\n",
    "\n",
    "#Parâmetros Backtrader\n",
    "df_ativo=yf.download(ativo, '2010-01-01', '2020-01-01', auto_adjust=True, interval=intervalo)\n",
    "df_ativo.dropna(inplace=True)\n",
    "data2 = bt.feeds.PandasData(dataname=df_ativo)\n",
    "\n"
   ]
  },
  {
   "cell_type": "code",
   "execution_count": null,
   "metadata": {
    "id": "abrs91gvOCBE"
   },
   "outputs": [],
   "source": [
    "class cruzamento_mm_rsi(bt.Strategy):\n",
    "\n",
    "  def __init__(self):\n",
    "\n",
    "    self.rsi = bt.indicators.RSI(self.data.close, period=janela_rsi)\n",
    "    self.mm_venda = bt.indicators.SMA(self.data.close, period=venda)\n",
    "    self.mm_rapida = bt.indicators.SMA(self.data.close, period=rapida)\n",
    "    self.mm_lenta = bt.indicators.SMA(self.data.close, period=lenta)\n",
    "    self.crossup = bt.ind.CrossUp(self.mm_rapida, self.mm_lenta)\n",
    "    self.crossup_venda = bt.ind.CrossDown(self.mm_venda, self.mm_rapida)\n",
    "\n",
    "\n",
    "\n",
    "\n",
    "\n",
    "  def next(self):\n",
    "    if not self.position: #se não tiver alguma ordem aberta - condição de compra\n",
    "      if self.crossup == 1:\n",
    "        self.buy(size=100)\n",
    "\n",
    "    else: #caso a ordem já estiver aberta - condição de venda\n",
    "      if self.rsi > 65:\n",
    "        self.sell(size=100)\n",
    "  \n",
    "\n",
    "cerebro = bt.Cerebro()\n",
    "cerebro.addstrategy(cruzamento_mm_rsi)\n",
    "cerebro.adddata(data2)\n",
    "cerebro.run()\n",
    "plt.rcParams['figure.figsize'] = [30, 20]\n",
    "plt.rcParams.update({'font.size': 12}) \n",
    "cerebro.plot(iplot = False)"
   ]
  },
  {
   "cell_type": "code",
   "execution_count": null,
   "metadata": {
    "id": "0Knl3s_XX7S9"
   },
   "outputs": [],
   "source": [
    "#Teste de robustez\n",
    "\n",
    "ativo = 'PETR4.SA'\n",
    "intervalo = '1d'\n",
    "df_ativo=yf.download(ativo, '2020-02-01', '2022-03-01', auto_adjust=True, interval=intervalo)\n",
    "df_ativo.dropna(inplace=True)\n",
    "data2 = bt.feeds.PandasData(dataname=df_ativo)\n",
    "venda = 7\n",
    "rapida = 21 \n",
    "lenta = 100\n",
    "janela_rsi = 21"
   ]
  },
  {
   "cell_type": "code",
   "execution_count": null,
   "metadata": {
    "id": "8WBhEXrYlZvo"
   },
   "outputs": [],
   "source": [
    "import backtrader.analyzers as btanalyzers\n",
    "\n",
    "class rsi_media_movel(bt.Strategy):\n",
    "\n",
    "  def __init__(self):\n",
    "\n",
    "    self.rsi = bt.indicators.RSI(self.data.close, period=janela_rsi)\n",
    "    self.mm_venda = bt.indicators.SMA(self.data.close, period=venda)\n",
    "    self.mm_rapida = bt.indicators.SMA(self.data.close, period=rapida)\n",
    "    self.mm_lenta = bt.indicators.SMA(self.data.close, period=lenta)\n",
    "    self.crossup = bt.ind.CrossUp(self.mm_rapida, self.mm_lenta)\n",
    "    self.crossup_venda = bt.ind.CrossDown(self.mm_venda, self.mm_rapida)\n",
    "\n",
    "\n",
    "\n",
    "\n",
    "\n",
    "  def next(self):\n",
    "    if not self.position: #se não tiver alguma ordem aberta - condição de compra\n",
    "      if self.crossup == 1:\n",
    "        self.buy(size=100)\n",
    "\n",
    "    else: #caso a ordem já estiver aberta - condição de venda\n",
    "      if self.rsi > 65:\n",
    "        self.sell(size=100)\n",
    "  \n",
    "caixa_inicial = 30000 #definimos o montante a inicial do portfólio\n",
    "\n",
    "cerebro = bt.Cerebro()\n",
    "cerebro.addstrategy(rsi_media_movel)\n",
    "cerebro.adddata(data2)\n",
    "cerebro.run()\n",
    "plt.rcParams['figure.figsize'] = [30, 20]\n",
    "plt.rcParams.update({'font.size': 12}) \n",
    "cerebro.plot(iplot = False)"
   ]
  }
 ],
 "metadata": {
  "colab": {
   "name": "Backtesting_Modal.ipynb",
   "provenance": []
  },
  "kernelspec": {
   "display_name": "Python 3 (ipykernel)",
   "language": "python",
   "name": "python3"
  },
  "language_info": {
   "codemirror_mode": {
    "name": "ipython",
    "version": 3
   },
   "file_extension": ".py",
   "mimetype": "text/x-python",
   "name": "python",
   "nbconvert_exporter": "python",
   "pygments_lexer": "ipython3",
   "version": "3.9.12"
  }
 },
 "nbformat": 4,
 "nbformat_minor": 1
}
